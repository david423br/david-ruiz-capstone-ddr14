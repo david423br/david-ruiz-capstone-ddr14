{
 "cells": [
  {
   "cell_type": "markdown",
   "id": "fb4f5ac2-b6ef-48d6-b757-12933ae04354",
   "metadata": {},
   "source": [
    "# Data collected from https://rebrickable.com/downloads/ and is current as of Nov. 21, 2024, 7:08 a.m."
   ]
  },
  {
   "cell_type": "code",
   "execution_count": null,
   "id": "c8159920-d856-435a-886b-093db4a66c18",
   "metadata": {},
   "outputs": [],
   "source": [
    "import pandas as pd\n",
    "import matplotlib.pyplot as plt\n",
    "from datetime import datetime as dt\n",
    "import numpy as np\n",
    "import seaborn as sns\n",
    "import re"
   ]
  },
  {
   "cell_type": "code",
   "execution_count": null,
   "id": "655b28d6-d5f4-4a81-8245-77906b205beb",
   "metadata": {},
   "outputs": [],
   "source": [
    "inventories = pd.read_csv('../data/inventories.csv')\n",
    "inventory_minifigs = pd.read_csv('../data/inventory_minifigs.csv')\n",
    "inventory_parts = pd.read_csv('../data/inventory_parts.csv')\n",
    "inventory_sets = pd.read_csv('../data/inventory_sets.csv')\n",
    "part_categories = pd.read_csv('../data/part_categories.csv')\n",
    "parts = pd.read_csv('../data/parts.csv')\n",
    "sets = pd.read_csv('../data/sets.csv')\n",
    "themes = pd.read_csv('../data/themes.csv')"
   ]
  },
  {
   "cell_type": "code",
   "execution_count": null,
   "id": "c5a12c95-cf53-4dae-b156-89a7d37dcee5",
   "metadata": {},
   "outputs": [],
   "source": [
    "df1a = pd.merge(sets, themes, \n",
    "                               left_on = 'theme_id', right_on = 'id', \n",
    "                               how = 'left')\n",
    "df1a.rename({'name_x': 'set_title',  \n",
    "           'name_y': 'theme'},  \n",
    "          axis = \"columns\", inplace = True) \n",
    "df1a.drop('id', axis=1, inplace=True)"
   ]
  },
  {
   "cell_type": "code",
   "execution_count": null,
   "id": "489e1676-bc29-47b8-aa74-1e922121d069",
   "metadata": {},
   "outputs": [],
   "source": [
    "df2a = pd.merge(df1a, inventory_sets,\n",
    "                               left_on = 'set_num', right_on = 'set_num',\n",
    "                               how = 'left')\n",
    "df2a.rename({'quantity': 'inv_quant'},  \n",
    "          axis = \"columns\", inplace = True) "
   ]
  },
  {
   "cell_type": "code",
   "execution_count": null,
   "id": "a9a53695-5496-4734-994c-38a602494901",
   "metadata": {},
   "outputs": [],
   "source": [
    "df3a = pd.merge(inventories, inventory_minifigs,\n",
    "                               left_on = 'id', right_on = 'inventory_id',\n",
    "                               how = 'left')\n",
    "df3a = df3a.groupby('set_num').quantity.count()\n",
    "df3a = pd.DataFrame(df3a).reset_index()\n",
    "df3a.rename({'quantity': 'mini_fig_count'},  \n",
    "          axis = \"columns\", inplace = True) "
   ]
  },
  {
   "cell_type": "code",
   "execution_count": null,
   "id": "f76c58be-e6e2-433a-8b89-385e0633c843",
   "metadata": {},
   "outputs": [],
   "source": [
    "story_1_df = pd.merge(df2a, df3a,\n",
    "                       left_on = 'set_num', right_on = 'set_num',\n",
    "                       how = 'left')\n",
    "story_1_df = story_1_df.loc[story_1_df['num_parts'] > 0]"
   ]
  },
  {
   "cell_type": "code",
   "execution_count": null,
   "id": "ff9c9c13-334a-49cb-8737-9aa3db3707d5",
   "metadata": {},
   "outputs": [],
   "source": [
    "df1b = pd.merge(parts, part_categories,\n",
    "                        left_on = 'part_cat_id', right_on = 'id',\n",
    "                        how = 'left')\n",
    "df1b.rename({'name_x': 'part_title',  \n",
    "           'name_y': 'part_type'},  \n",
    "          axis = \"columns\", inplace = True) \n",
    "df1b.drop('id', axis=1, inplace=True)"
   ]
  },
  {
   "cell_type": "code",
   "execution_count": null,
   "id": "a6ea7467-dc7e-4ff5-b777-0f11054522c1",
   "metadata": {},
   "outputs": [],
   "source": [
    "df2b = pd.merge(df1b, inventory_parts,\n",
    "                        left_on = 'part_num', right_on = 'part_num',\n",
    "                        how = 'left')"
   ]
  },
  {
   "cell_type": "code",
   "execution_count": null,
   "id": "7ddf979d-cd35-485e-8ab2-d5281bf8df8d",
   "metadata": {
    "scrolled": true
   },
   "outputs": [],
   "source": [
    "df3b = pd.merge(df2b, inventories,\n",
    "                        left_on = 'inventory_id', right_on = 'id',\n",
    "                        how = 'left')"
   ]
  },
  {
   "cell_type": "code",
   "execution_count": null,
   "id": "c7102299-c92d-4902-bd55-d186f4bf2ebf",
   "metadata": {},
   "outputs": [],
   "source": [
    "story_2_df = pd.merge(df2a, df3b,\n",
    "                        left_on = 'set_num', right_on = 'set_num',\n",
    "                        how = 'left')\n",
    "story_2_df.rename({'img_url_x': 'set_img_url',  \n",
    "           'img_url_y': 'part_img_url',\n",
    "            'quantity': 'part_quant'},  \n",
    "          axis = \"columns\", inplace = True) \n",
    "story_2_df.drop('id', axis=1, inplace=True)"
   ]
  },
  {
   "cell_type": "markdown",
   "id": "97cb84ec-1b64-4b01-99b5-a0054e87bb26",
   "metadata": {},
   "source": [
    "story_2_df.to_csv(\"lego_power_bi.csv\", index=False) "
   ]
  },
  {
   "cell_type": "code",
   "execution_count": null,
   "id": "c213005d-4eb2-4c7f-9852-eb0eaccad1d1",
   "metadata": {
    "scrolled": true
   },
   "outputs": [],
   "source": [
    "story_2_df.head()"
   ]
  },
  {
   "cell_type": "markdown",
   "id": "c8653a1d-f99f-4123-acb5-c8ea77d7adcd",
   "metadata": {},
   "source": [
    "## 1. Look into theme diversity to identify set counts per theme in order to understand what Lego is more likely (and less likely) to produce from Lego Ideas. Goal to identify dominance to assert concentration."
   ]
  },
  {
   "cell_type": "code",
   "execution_count": null,
   "id": "1381b493-2738-45ca-9d55-207ccbd4ae36",
   "metadata": {
    "scrolled": true
   },
   "outputs": [],
   "source": [
    "exclude_non_lego = ['Stationery and Office Supplies', 'Activity Books with LEGO Parts', 'Mini', 'Value Packs', 'Activity Books', 'Supplemental', 'System', 'Playhouse', 'Jumbo Bricks', 'Non-fiction Books', 'Storage', 'Universal Building Set', 'Story Books', 'Video Games and Accessories', 'Bulk Bricks', '4.5V', 'Gear', 'Stationary and Office Supplies', 'Key Chain', 'LEGO Brand Store', 'Houseware', 'Other', 'NXT', 'Promotional', 'Building Set with People', 'Educational and Dacta', 'Plush Toys', 'Advent', 'Database Sets', 'HO 1:87 Vehicles', 'Ideas Books', 'Service Packs', 'Magnets', 'Series 1 Minifigures', 'Series 2 Minifigures', 'Series 3 Minifigures', 'Series 4 Minifigures', 'Series 5 Minifigures', 'Series 6 Minifigures', 'Series 7 Minifigures', 'Series 8 Minifigures', 'Series 9 Minifigures', 'Series 10 Minifigures', 'Series 11 Minifigures', 'Series 12 Minifigures', 'Series 13 Minifigures', 'Series 14 Minifigures', 'Series 15 Minifigures', 'Series 16 Minifigures', 'Series 17 Minifigures', 'Series 18 Minifigures', 'Series 19 Minifigures', 'Series 20 Minifigures', 'Series 21 Minifigures', 'Series 22 Minifigures', 'Series 23 Minifigures', 'Series 24 Minifigures', 'Series 25 Minifigures', 'Series 26 Minifigures']\n",
    " \n",
    "story_1_df = story_1_df[~story_1_df['theme'].isin(exclude_non_lego)]\n",
    "story_1_df['decade'] = (story_1_df['year'] // 10) * 10"
   ]
  },
  {
   "cell_type": "code",
   "execution_count": null,
   "id": "8e191223-8235-4fc1-8bd9-b19f7c9c87ec",
   "metadata": {
    "scrolled": true
   },
   "outputs": [],
   "source": [
    "sets_per_theme_desc = story_1_df.groupby('theme').count().sort_values('set_num', ascending = False).reset_index().head(20)"
   ]
  },
  {
   "cell_type": "code",
   "execution_count": null,
   "id": "3a56cccd-aa60-4b2a-ba61-746084c9025d",
   "metadata": {},
   "outputs": [],
   "source": [
    "plt.figure(figsize=(14, 6))\n",
    "plt.bar(sets_per_theme_desc.theme, sets_per_theme_desc.set_num, color=('#db0000')) \n",
    "plt.ylabel(\"Set Count\", fontsize=16)\n",
    "plt.xlabel(\"Theme\", fontsize=16)\n",
    "plt.title(\"Top 20 - Total Set Count per Theme\", fontsize=20)\n",
    "plt.xticks(rotation=45, ha = 'right', fontsize=13)\n",
    "plt.yticks(fontsize=13)\n",
    "# plt.savefig('total_set_count_per_theme_top.png', bbox_inches = 'tight', transparent=True)\n",
    "plt.show()"
   ]
  },
  {
   "cell_type": "code",
   "execution_count": null,
   "id": "e5fa2c5b-b06d-4321-9d79-2813e53c7d11",
   "metadata": {
    "scrolled": true
   },
   "outputs": [],
   "source": [
    "sets_per_theme_asc = story_1_df.groupby('theme').count().sort_values('set_num').reset_index().head(20)"
   ]
  },
  {
   "cell_type": "code",
   "execution_count": null,
   "id": "5bd7544b-89aa-4ec7-9f52-7ebba38fb2a4",
   "metadata": {},
   "outputs": [],
   "source": [
    "plt.figure(figsize=(14, 6))\n",
    "plt.bar(sets_per_theme_asc.theme, sets_per_theme_asc.set_num, color= (\"#db0000\")) \n",
    "plt.ylabel(\"Set Count\", fontsize = 16)\n",
    "plt.xlabel(\"Theme\", fontsize =16)\n",
    "plt.title(\"Bottom 20 - Total Set Count per Theme\", fontsize = 20)\n",
    "plt.xticks(rotation=45, ha = 'right', fontsize = 13)\n",
    "plt.yticks(np.arange(min(sets_per_theme_asc['set_num']), max(sets_per_theme_asc['set_num'])+1, 1), fontsize = 13)\n",
    "# plt.savefig('total_set_count_per_theme_bottom.png', bbox_inches = 'tight', transparent=True)\n",
    "plt.show()"
   ]
  },
  {
   "cell_type": "markdown",
   "id": "da62bab5-b004-4195-afc1-1efdf13ddd4a",
   "metadata": {},
   "source": [
    "## 2. Look into theme popularity over time via set count, identifying theme progression over time. Due to volume of themes will likely look into top 3-5 and bottom 3-5 using clustered bar charts (maybe up to 10 top/bottom using line charts). Most likely on a yearly (or half-decade/decade bins) basis since there is data all the way back to the 1960s."
   ]
  },
  {
   "cell_type": "code",
   "execution_count": null,
   "id": "7558865b-f891-46f5-831a-6a1276a14e9e",
   "metadata": {},
   "outputs": [],
   "source": [
    "decade_df = story_1_df.groupby(['theme', 'decade']).count().sort_values('theme', ascending=False).reset_index()"
   ]
  },
  {
   "cell_type": "code",
   "execution_count": null,
   "id": "06945505",
   "metadata": {},
   "outputs": [],
   "source": [
    "theme_year_df = story_1_df.groupby(['theme', 'year']).count().sort_values('theme', ascending=False).reset_index()"
   ]
  },
  {
   "cell_type": "code",
   "execution_count": null,
   "id": "cbeac837-d314-4452-83da-13199bd6cd1d",
   "metadata": {
    "scrolled": true
   },
   "outputs": [],
   "source": [
    "top_10_theme = sets_per_theme_desc['theme'].head(10)\n",
    "\n",
    "theme_year_df = theme_year_df[theme_year_df['theme'].isin(top_10_theme)]"
   ]
  },
  {
   "cell_type": "code",
   "execution_count": null,
   "id": "41577ea8",
   "metadata": {
    "scrolled": true
   },
   "outputs": [],
   "source": [
    "decade_df = decade_df[decade_df['theme'].isin(top_10_theme)]"
   ]
  },
  {
   "cell_type": "code",
   "execution_count": null,
   "id": "5ff2fac7-e335-4a7e-af7c-03a8bcc599e9",
   "metadata": {},
   "outputs": [],
   "source": [
    "decade_df = decade_df.loc[decade_df['decade'] != 2020]"
   ]
  },
  {
   "cell_type": "code",
   "execution_count": null,
   "id": "1518da12-17e3-4f30-bdc6-29e84577fbb9",
   "metadata": {},
   "outputs": [],
   "source": [
    "plt.figure(figsize=(14, 6))\n",
    "sns.lineplot(x = theme_year_df.year, y = theme_year_df.set_num, hue = theme_year_df.theme)\n",
    "plt.ylabel(\"Set Count\", fontsize = 16)\n",
    "plt.xlabel(\"Year\", fontsize = 16)\n",
    "plt.title(\"Top 10 - Set Count per Year\", fontsize = 20)\n",
    "plt.xticks(fontsize = 13)\n",
    "plt.yticks(fontsize = 13)\n",
    "plt.legend(title=\"Theme\", edgecolor = \"#db0000\", facecolor = \"#ffc700\", fontsize = 13)\n",
    "plt.grid()\n",
    "# plt.savefig('set_count_by_year.png', bbox_inches = 'tight', transparent=True)\n",
    "plt.show()"
   ]
  },
  {
   "cell_type": "code",
   "execution_count": null,
   "id": "07c1b780",
   "metadata": {},
   "outputs": [],
   "source": [
    "plt.figure(figsize=(14, 6))\n",
    "sns.lineplot(x = decade_df.decade, y = decade_df.set_num, hue = decade_df.theme)\n",
    "plt.ylabel(\"Set Count\", fontsize = 16)\n",
    "plt.xlabel(\"Decade (inclusive +9yrs)\", fontsize = 16)\n",
    "plt.title(\"Top 10 - Set Count per Decade\", fontsize = 20)\n",
    "plt.xticks(fontsize = 13)\n",
    "plt.yticks(fontsize = 13)\n",
    "plt.legend(title=\"Theme\", edgecolor = \"#db0000\", facecolor = \"#ffc700\", fontsize = 13)\n",
    "plt.grid()\n",
    "# plt.savefig('set_count_by_decade.png', bbox_inches = 'tight', transparent=True)\n",
    "plt.show()"
   ]
  },
  {
   "cell_type": "markdown",
   "id": "39e1a017-4637-448b-b465-2369ecbe4e27",
   "metadata": {},
   "source": [
    "### Bionicle launched in 2001, and was sunset in 2010. The launch of Bionicle quickly followed negative profits in 1998 and 2000 in an attempt to avoid financial crisis or bankruptcy. Unlike previous Lego themes, Bionicle was accompanied by an original story that was told across a multimedia spectrum, including books, comics, games, and animated films. Which helped drive the adoration from old and soon to be new LEGO lovers."
   ]
  },
  {
   "cell_type": "markdown",
   "id": "d28b4596-8f42-4e38-852e-895cdbde2be2",
   "metadata": {},
   "source": [
    "## 3a. Identify themes that have endured the tests of time, answering which themes will allways be relevant. Try to identify any factors that may have played into the longevity of the theme popularity."
   ]
  },
  {
   "cell_type": "code",
   "execution_count": null,
   "id": "2e7b8d9d-4a7f-4725-bfd1-5b4b9dfc51fa",
   "metadata": {},
   "outputs": [],
   "source": [
    "longevity_df = story_1_df.groupby(['theme', 'year']).count().sort_values(['theme', 'year']).reset_index()"
   ]
  },
  {
   "cell_type": "code",
   "execution_count": null,
   "id": "6525e8f6-c8ea-47f8-9ec7-96d9cc0a384d",
   "metadata": {
    "scrolled": true
   },
   "outputs": [],
   "source": [
    "years_active_top_df = longevity_df.groupby('theme').count().sort_values('year', ascending = False).reset_index()\n",
    "years_active_top_df = years_active_top_df.head(20)"
   ]
  },
  {
   "cell_type": "code",
   "execution_count": null,
   "id": "06a7d9cf-1250-4f8c-9299-2637330577dc",
   "metadata": {},
   "outputs": [],
   "source": [
    "plt.figure(figsize=(14, 6))\n",
    "plt.bar(years_active_top_df.theme, years_active_top_df.year, color= (\"#db0000\")) \n",
    "plt.ylabel(\"Years Active\", fontsize = 16)\n",
    "plt.xlabel(\"Theme\", fontsize = 16)\n",
    "plt.title(\"Top 20 - Themes by Active Year Count\", fontsize = 20)\n",
    "plt.xticks(rotation=45, ha = 'right', fontsize = 13)\n",
    "plt.yticks(fontsize = 13)\n",
    "# plt.savefig('top_20_active_year.png', bbox_inches = 'tight', transparent=True)\n",
    "plt.show()"
   ]
  },
  {
   "cell_type": "code",
   "execution_count": null,
   "id": "344c282c-62f7-4811-8796-3987bd902d74",
   "metadata": {},
   "outputs": [],
   "source": [
    "years_active_bottom_df = longevity_df.groupby('theme').count().sort_values('year').reset_index()\n",
    "years_active_bottom_df = years_active_bottom_df.head(20)"
   ]
  },
  {
   "cell_type": "code",
   "execution_count": null,
   "id": "e71f88f2-09a2-48e9-a825-f5b06ec46206",
   "metadata": {},
   "outputs": [],
   "source": [
    "plt.figure(figsize=(14, 2))\n",
    "plt.bar(years_active_bottom_df.theme, years_active_bottom_df.year, color= (\"#db0000\")) \n",
    "plt.ylabel(\"Years Active\", fontsize = 16)\n",
    "plt.xlabel(\"Theme\", fontsize = 16)\n",
    "plt.title(\"Bottom 20 - Themes by Active Year Count\", fontsize = 20)\n",
    "plt.xticks(rotation=45, ha = 'right', fontsize = 13)\n",
    "plt.yticks(np.arange(min(years_active_bottom_df['year']), max(years_active_bottom_df['year'])+1, 1), fontsize = 13)\n",
    "# plt.savefig('bottom_20_active_year.png', bbox_inches = 'tight', transparent=True)\n",
    "plt.show()"
   ]
  },
  {
   "cell_type": "markdown",
   "id": "b7d96c98-2ec5-4e99-870c-9ddab21a79eb",
   "metadata": {},
   "source": [
    "## 3b. Which themes have the top/bottom available resale sets on ReBrickable? This to show which themes are valuable enough to re-sell, giving insight to which themes to concentrate on or avoid."
   ]
  },
  {
   "cell_type": "code",
   "execution_count": null,
   "id": "a7047253-b5ae-43c4-8586-f189862ac1f9",
   "metadata": {},
   "outputs": [],
   "source": [
    "resale_top_df = story_1_df.groupby('theme').sum().sort_values('inv_quant', ascending = False).reset_index().head(20)"
   ]
  },
  {
   "cell_type": "code",
   "execution_count": null,
   "id": "c594d902-8cd4-487c-8dba-7c11a62812e9",
   "metadata": {},
   "outputs": [],
   "source": [
    "plt.figure(figsize=(14, 6))\n",
    "plt.bar(resale_top_df.theme, resale_top_df.inv_quant, color= (\"#db0000\")) \n",
    "plt.ylabel(\"Inventory Quantity\", fontsize =16)\n",
    "plt.xlabel(\"Theme\", fontsize = 16)\n",
    "plt.title(\"Top 20 - Themes by Available Rebrickable Inventory\", fontsize = 20)\n",
    "plt.xticks(rotation=45, ha = 'right', fontsize = 13)\n",
    "plt.yticks(fontsize = 13)\n",
    "# plt.savefig('top_20_rebrickable_inventory.png', bbox_inches = 'tight', transparent=True)\n",
    "plt.show()"
   ]
  },
  {
   "cell_type": "code",
   "execution_count": null,
   "id": "48c5c939-c207-4ca6-82ac-38eea827125d",
   "metadata": {},
   "outputs": [],
   "source": [
    "resale_bottom_df = story_1_df.groupby('theme').sum().sort_values('inv_quant').reset_index()\n",
    "resale_bottom_df = resale_bottom_df.loc[resale_bottom_df['inv_quant'] >= 1.0].head(20)"
   ]
  },
  {
   "cell_type": "code",
   "execution_count": null,
   "id": "20087501-0b2e-468d-b76a-1755048d373f",
   "metadata": {},
   "outputs": [],
   "source": [
    "plt.figure(figsize=(14, 2))\n",
    "plt.bar(resale_bottom_df.theme, resale_bottom_df.inv_quant, color= (\"#db0000\")) \n",
    "plt.ylabel(\"Inventory Quantity\", fontsize = 16)\n",
    "plt.xlabel(\"Theme\", fontsize = 16)\n",
    "plt.title(\"Bottom 20 - Themes by Available Rebrickable Inventory\", fontsize = 20)\n",
    "plt.xticks(rotation=45, ha = 'right', fontsize = 13)\n",
    "plt.yticks(np.arange(min(resale_bottom_df['inv_quant']), max(resale_bottom_df['inv_quant'])+1, 1), fontsize = 13)\n",
    "# plt.savefig('bottom_20_rebrickable_inventory.png', bbox_inches = 'tight', transparent=True)\n",
    "plt.show()"
   ]
  },
  {
   "cell_type": "markdown",
   "id": "58e588aa-7247-4a6b-9f34-37da1299e6ef",
   "metadata": {},
   "source": [
    "## 4. Look into lego sets as a whole, regardless of theme, over a time span. Were there any contibuting factors linked to years/decades where set count decreased vs increased (try to find supporting articles). Identify which years released the most and least, again, look for contributing factors. (I may place this before #2 based on how the story sounds once I've pulled the data)"
   ]
  },
  {
   "cell_type": "code",
   "execution_count": null,
   "id": "27556302-a45c-42f1-bee3-dfdbb7a433b2",
   "metadata": {},
   "outputs": [],
   "source": [
    "years_all_df = story_1_df.groupby('year').count().sort_values('year').reset_index()"
   ]
  },
  {
   "cell_type": "code",
   "execution_count": null,
   "id": "2a63d9e7-73fe-4232-96f6-b790b5d5e43d",
   "metadata": {},
   "outputs": [],
   "source": [
    "plt.figure(figsize=(14, 6))\n",
    "sns.lineplot(x = years_all_df.year, y = years_all_df.set_num)\n",
    "plt.ylabel(\"Set Count\", fontsize = 16)\n",
    "plt.xlabel(\"Year\", fontsize = 16)\n",
    "plt.title(\"Total - Set Count per Year\", fontsize = 20)\n",
    "plt.xticks(fontsize = 13)\n",
    "plt.yticks(fontsize = 13)\n",
    "plt.grid()\n",
    "# plt.savefig('set_all_by_year.png', bbox_inches = 'tight', transparent=True)\n",
    "plt.show()"
   ]
  },
  {
   "cell_type": "markdown",
   "id": "57cef223-c54a-4cf5-9621-29e19498921c",
   "metadata": {},
   "source": [
    "## 5. Another interesting deep dive would be sets produced based on volume of pieces. Divide sets into groups of sml, med, lrg based on set count (likely max piece count divided by 3 to assign my windows). This to help identify Lego idea sets that may be too big, or too small. But there's also a possiblity that large sets are the majority, making piece count a contributing factor to eligibility."
   ]
  },
  {
   "cell_type": "code",
   "execution_count": null,
   "id": "e276f79b-c486-4ee4-8227-3db36fa2a345",
   "metadata": {
    "scrolled": true
   },
   "outputs": [],
   "source": [
    "for ind, row in story_1_df.iterrows():\n",
    "    if row.num_parts == row.num_parts < 51:\n",
    "        story_1_df.loc[ind, 'size'] = '1 - 50'\n",
    "    elif row.num_parts == row.num_parts > 249:\n",
    "        story_1_df.loc[ind, 'size'] = '251 +'\n",
    "    else: story_1_df.loc[ind, 'size'] = '51 - 250'"
   ]
  },
  {
   "cell_type": "code",
   "execution_count": null,
   "id": "b226ed55-61aa-46ab-aa34-d7fd1cdfd4da",
   "metadata": {},
   "outputs": [],
   "source": [
    "size_df = story_1_df.groupby('size').count().sort_values('size').reset_index()"
   ]
  },
  {
   "cell_type": "code",
   "execution_count": null,
   "id": "2fbfffef-b28d-4482-addd-f9d38b7a5d0c",
   "metadata": {},
   "outputs": [],
   "source": [
    "new_order = [0, 2, 1] \n",
    "\n",
    "size_df = size_df.reindex(new_order).reset_index(drop=True)"
   ]
  },
  {
   "cell_type": "code",
   "execution_count": null,
   "id": "8fde748c-7852-42e7-b8e3-4066a1a03a4e",
   "metadata": {},
   "outputs": [],
   "source": [
    "plt.figure(figsize=(7, 6))\n",
    "plt.bar(size_df['size'], size_df.set_num, color= (\"#db0000\")) \n",
    "plt.ylabel(\"Set Count\", fontsize = 16)\n",
    "plt.xlabel(\"Piece Count Range\", fontsize = 16)\n",
    "plt.title(\"Set Count Size by Piece Count\", fontsize = 20)\n",
    "plt.xticks(fontsize = 13)\n",
    "plt.yticks(fontsize = 13)\n",
    "# plt.savefig('count_by_size.png', bbox_inches = 'tight', transparent=True)\n",
    "plt.show()"
   ]
  },
  {
   "cell_type": "code",
   "execution_count": null,
   "id": "e5d913d0-f97d-4e7c-ba99-ba0c5165e039",
   "metadata": {
    "scrolled": true
   },
   "outputs": [],
   "source": [
    "size_year_df = story_1_df.groupby(['size', 'year']).count().sort_values('size', ascending=False).reset_index()"
   ]
  },
  {
   "cell_type": "code",
   "execution_count": null,
   "id": "5d41c399-5988-4131-98ac-f6610df5688e",
   "metadata": {},
   "outputs": [],
   "source": [
    "plt.figure(figsize=(14, 6))\n",
    "sns.lineplot(x = size_year_df.year, y = size_year_df.set_num, hue = size_year_df['size'])\n",
    "plt.ylabel(\"Set Count\", fontsize = 16)\n",
    "plt.xlabel(\"Year\", fontsize = 16)\n",
    "plt.title(\"Set Count per Year by Size\", fontsize = 20)\n",
    "handles, labels = plt.gca().get_legend_handles_labels()\n",
    "order = [2,0,1]\n",
    "plt.legend([handles[idx] for idx in order],[labels[idx] for idx in order], title=\"Piece Count\", edgecolor = \"#db0000\", facecolor = \"#ffc700\", fontsize = 13)\n",
    "plt.xticks(fontsize = 13)\n",
    "plt.yticks(fontsize = 13)\n",
    "plt.grid()\n",
    "# plt.savefig('set_count_per_year_by_size.png', bbox_inches = 'tight', transparent=True)\n",
    "plt.show()"
   ]
  },
  {
   "cell_type": "markdown",
   "id": "c79406ca-5061-49bc-aecf-4aa7e49bf1c4",
   "metadata": {},
   "source": [
    "## Bonus if time permits - Scrape ratings info from https://brickinsights.com/, only bummer there is the data stopped being updated in 2022, and I'm unsure how far back it goes, so this will be a reduced data set. Should be easy to exluded sets that don't fall within the ratings window using .loc. Would likely only pull data for top/bottom 5-10 themes, mainly for a glimpse of reviewer sentiment (reviewers being a Lego blog or review site, from a specified list gathered by Brick Insights)."
   ]
  },
  {
   "cell_type": "code",
   "execution_count": null,
   "id": "6b553e32-bea0-43ca-ac63-aae653f3d601",
   "metadata": {},
   "outputs": [],
   "source": []
  },
  {
   "cell_type": "markdown",
   "id": "ddc532f4-b536-4783-937c-8be4fa316550",
   "metadata": {},
   "source": [
    "## Bonus (2) - look for any correlation, or at least compare the data for themes that are associated with movie franchises."
   ]
  },
  {
   "cell_type": "code",
   "execution_count": null,
   "id": "eca18f5d-f9ca-44d6-ab01-3f091420da28",
   "metadata": {},
   "outputs": [],
   "source": []
  }
 ],
 "metadata": {
  "kernelspec": {
   "display_name": "Python 3 (ipykernel)",
   "language": "python",
   "name": "python3"
  },
  "language_info": {
   "codemirror_mode": {
    "name": "ipython",
    "version": 3
   },
   "file_extension": ".py",
   "mimetype": "text/x-python",
   "name": "python",
   "nbconvert_exporter": "python",
   "pygments_lexer": "ipython3",
   "version": "3.12.4"
  }
 },
 "nbformat": 4,
 "nbformat_minor": 5
}
